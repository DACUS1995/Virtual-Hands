{
 "cells": [
  {
   "cell_type": "code",
   "execution_count": null,
   "metadata": {},
   "outputs": [],
   "source": []
  }
 ],
 "metadata": {
  "interpreter": {
   "hash": "9a9b5adc82776b1b2f2584c553d2c8333e90887052c5945a660eb3ca77e2a1ee"
  },
  "kernelspec": {
   "display_name": "Python 3.7.7 64-bit ('torch': conda)",
   "name": "python3"
  },
  "language_info": {
   "name": "python",
   "version": ""
  },
  "orig_nbformat": 4
 },
 "nbformat": 4,
 "nbformat_minor": 2
}